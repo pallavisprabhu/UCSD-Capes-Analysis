{
 "cells": [
  {
   "cell_type": "markdown",
   "metadata": {},
   "source": [
    "# COGS 108 - EDA Checkpoint"
   ]
  },
  {
   "cell_type": "markdown",
   "metadata": {},
   "source": [
    "# Names\n",
    "\n",
    "- Pallavi Prabhu\n",
    "- Hana Ton-Nu\n",
    "- Justin Gamm\n",
    "- Raquel Sanchez\n",
    "- Ria Singh\n"
   ]
  },
  {
   "cell_type": "markdown",
   "metadata": {},
   "source": [
    "# Research Question"
   ]
  },
  {
   "cell_type": "markdown",
   "metadata": {},
   "source": [
    "\n",
    "\n",
    "Do students at UCSD expect higher grades than they receive if they recommend the professor, as measured through CAPEs? Namely, do students that recommend a professor generally expect to do better (expected grade) than they actually did (grade received) and vice versa?\n",
    "\n"
   ]
  },
  {
   "cell_type": "markdown",
   "metadata": {},
   "source": [
    "## Background and Prior Work"
   ]
  },
  {
   "cell_type": "markdown",
   "metadata": {},
   "source": [
    "\n",
    "CAPES stands for “Course And Professor Evaluations” and are offered to students at the end of every quarter to give feedback on their courses and the professors that taught them. As stated on the website, CAPES<a name=\"cite_ref-1\"></a>[<sup>1</sup>](#cite_note-1) is: \n",
    "\n",
    "    “a student-run organization that administers a standardized evaluation of UCSD's undergraduate courses and professors. Student feedback gauges the caliber of both the University's curriculum and its faculty. We provide students with the opinions of their peers on any particular course or professor.” (UCSD)\n",
    "    \n",
    "After students submit their CAPES, this data is aggregated for each quarter of evaluations into features like the percentage of students that recommended the class, the percentage of students that recommend the instructor, the number of hours per week involved in this class, the average grade expected, and the average grade received (which is calculated from the final submitted grades). CAPEs play an important role in helping students choose their professors and even the courses they enroll them in as they generally have more statistics and comprehensive data compared to other rating sites. \n",
    "\n",
    "In addition, other rating sites often show signs of significant skew, with a majority of ratings being either towards the extreme since people are more likely to rate something they have a strong reaction towards. This creates a bimodal distribution that lacks data in between these two strong opinions. On the other hand, while not entirely protected, CAPEs likely have some resistance to potential skews in data since students are often incentivized to complete them for extra credit, which gives equal opportunity for various kinds of responses.\n",
    "In winter of 2021, a COGS108 group also asked a question regarding CAPEs: “How has remote learning during the COVID-19 pandemic affected UCSD students’ grades and learning experience?” (Group084_Wi21<a name=\"cite_ref-2\"></a>[<sup>2</sup>](#cite_note-2)). Thus, while the general topic remains the same, while they focus on the change of grades and learning as a result of the pandemic, we want to explore the potential association between students’ like of professors (recommended professor) and their potential overestimation/underestimation of their performance in class. While it seems obvious that students who do better in a course likely recommend a professor at a higher rate than those who don’t, we are more interested in their confidence and expectation.\n",
    "\n",
    "Furthermore, prior studies that have explored this topic of student-professor evaluations have found evidence of gender bias where female professors tended to rank lower than their male counterparts<a name=\"cite_ref-3\"></a>[<sup>3</sup>](#cite_note-3). While this is not directly related to our question, the general idea remains the same and it peaked our curiousity on some of the other featurs we could include. This could also be an interesting feature to consider in our analysis: how the professors’ gender, likeability, and the students' expectation of grade vs their actual received grade are all related. Do students overestimate their ability and expect a higher grade when the professor is female? How does the gender of a professor play into their recommendation in relation to the grades received in the class? Some other features that pique interest are the difference in expectation vs received depending on the department or type of class (like STEM vs liberal arts). Based on experience and expectatioon, STEM classes are notoriously perceived as more difficult than liberal arts class. Thus, it may be interesting to explore how this perceived difficulty plays into the relationship between the difference in grades expected and received and the overall likeabilty/recommendation of a professor. \n",
    "\n",
    "\n",
    "1. <a name=\"cite_note-1\"></a> [^](#cite_ref-1) University of California, San Diego. (n.d.). Course And Professor Evaluations. COURSE AND PROFESSOR EVALUATIONS (CAPE). Retrieved November 1, 2023, from https://cape.ucsd.edu/\n",
    "2. <a name=\"cite_note-2\"></a> [^](#cite_ref-2) FinalProject_group084. (2021, March 29). GitHub. Retrieved November 1, 2023, from https://github.com/COGS108/FinalProjects-Wi21/blob/main/FinalProject_group084.ipynb\n",
    "3. <a name=\"cite_note-3\"></a> [^](#cite_ref-3) Mitchell, K., & Martin, J. (2018). Gender Bias in Student Evaluations. PS: Political Science & Politics, 51(3), 648-652. doi:10.1017/S104909651800001X from https://www.cambridge.org/core/journals/ps-political-science-and-politics/article/gender-bias-in-student-evaluations/1224BE475C0AE75A2C2D8553210C4E27\n"
   ]
  },
  {
   "cell_type": "markdown",
   "metadata": {},
   "source": [
    "# Hypothesis\n"
   ]
  },
  {
   "cell_type": "markdown",
   "metadata": {},
   "source": [
    "After thinking back on our experiences in classes at UCSD and talking to our peers, we hypothesize that students in classes of well liked professors will overestimate their grade and those in classes of professors who are not as well liked will underestimate their grade.\n",
    "\n",
    "We expect the correlation between the recommendation percentage of a professor and the difference between the expected and received grades to be positive. Additionally we expect the difference to become negative in professors who have low recommendation percentages. \n"
   ]
  },
  {
   "cell_type": "markdown",
   "metadata": {},
   "source": [
    "# Data"
   ]
  },
  {
   "cell_type": "markdown",
   "metadata": {},
   "source": [
    "## Data overview\n",
    "\n",
    "- Dataset #1\n",
    "  - Dataset Name: CAPES data from UCSD\n",
    "  - Link to the dataset: https://www.kaggle.com/datasets/sanbornpnguyen/ucsdcapes/\n",
    "  - Number of observations: 63363\n",
    "  - Number of variables: 11\n",
    "\n",
    "\n",
    "This dataset includes CAPES data from UCSD. Important variables in this dataset that drive our research include recommendation percent, expected grade, and received grade. The datatypes included in this dataset include object, int, and float. The metric in our case would be the difference between received grade and expectated grade, which we created a column to display. These variables can act as a proxy for teaching effectiveness. In order to clean up our data, we used a couple different methods; we dropped unecessary columns, we standardized the grades and percentage columns, and dropped na columns. \n"
   ]
  },
  {
   "cell_type": "markdown",
   "metadata": {},
   "source": [
    "## Dataset: UCSD CAPES"
   ]
  },
  {
   "cell_type": "markdown",
   "metadata": {},
   "source": [
    "### Cleaning Data Process\n",
    "  - Dataset is relatively clean except for 'Average Grade Recieved' column containing some NaN. We determined that the data was in a usable format because each measured variable had its own column, each observation of the measured variable was in a different row, and the column headers are descriptive of their variables.\n",
    "  - We first decided to drop the evaluation url column since we did not deem it as relevant information needed to answer our question.\n",
    "  - We then checked and dropped all rows with null information since we felt those with missing values would not be helpful and would make exctracting data more difficult.\n",
    "  - We created a standarisation function that would convert all of the values in the 'Average Grade Expected' and 'Average Grade Received' columns to float columns and remove the '%' symbol.\n",
    "  - A new column was created called 'Difference' where the difference between the 'Average Grade Received' and the 'Average Grade Expected' is stored. This will help later to determine whether students over or underestimated their grades.\n",
    "  - We created columns for both the year and quarters so it has integers representing the quarters (1 = Winter, 2 = Spring, 3 = S1, 4 = S2, 5 = S3, 6 = Fall, 7 = SU) and the full year is displayed.\n",
    "  - Lastly, we also the categories of 'liberal' and 'stem' for the top 100 class codes for which information could be found in order to use these two groups in our analysis.\n"
   ]
  },
  {
   "cell_type": "code",
   "execution_count": 1,
   "metadata": {},
   "outputs": [],
   "source": [
    "import pandas as pd\n",
    "import numpy as np\n",
    "import seaborn as sns\n",
    "import matplotlib.pyplot as plt"
   ]
  },
  {
   "cell_type": "code",
   "execution_count": 2,
   "metadata": {},
   "outputs": [],
   "source": [
    "capes = pd.read_csv(\"capes_data.csv\")"
   ]
  },
  {
   "cell_type": "code",
   "execution_count": 3,
   "metadata": {},
   "outputs": [
    {
     "data": {
      "text/plain": [
       "(63363, 11)"
      ]
     },
     "execution_count": 3,
     "metadata": {},
     "output_type": "execute_result"
    }
   ],
   "source": [
    "#determine number of variables and observations\n",
    "capes.shape"
   ]
  },
  {
   "cell_type": "code",
   "execution_count": 4,
   "metadata": {},
   "outputs": [
    {
     "data": {
      "text/html": [
       "<div>\n",
       "<style scoped>\n",
       "    .dataframe tbody tr th:only-of-type {\n",
       "        vertical-align: middle;\n",
       "    }\n",
       "\n",
       "    .dataframe tbody tr th {\n",
       "        vertical-align: top;\n",
       "    }\n",
       "\n",
       "    .dataframe thead th {\n",
       "        text-align: right;\n",
       "    }\n",
       "</style>\n",
       "<table border=\"1\" class=\"dataframe\">\n",
       "  <thead>\n",
       "    <tr style=\"text-align: right;\">\n",
       "      <th></th>\n",
       "      <th>Instructor</th>\n",
       "      <th>Course</th>\n",
       "      <th>Quarter</th>\n",
       "      <th>Total Enrolled in Course</th>\n",
       "      <th>Total CAPEs Given</th>\n",
       "      <th>Percentage Recommended Class</th>\n",
       "      <th>Percentage Recommended Professor</th>\n",
       "      <th>Study Hours per Week</th>\n",
       "      <th>Average Grade Expected</th>\n",
       "      <th>Average Grade Received</th>\n",
       "      <th>Evalulation URL</th>\n",
       "    </tr>\n",
       "  </thead>\n",
       "  <tbody>\n",
       "    <tr>\n",
       "      <th>0</th>\n",
       "      <td>Butler Elizabeth Annette</td>\n",
       "      <td>AAS 10 - Intro/African-American Studies (A)</td>\n",
       "      <td>SP23</td>\n",
       "      <td>66</td>\n",
       "      <td>48</td>\n",
       "      <td>93.5%</td>\n",
       "      <td>100.0%</td>\n",
       "      <td>2.80</td>\n",
       "      <td>A- (3.84)</td>\n",
       "      <td>B+ (3.67)</td>\n",
       "      <td>https://cape.ucsd.edu/CAPEReport.aspx?sectioni...</td>\n",
       "    </tr>\n",
       "    <tr>\n",
       "      <th>1</th>\n",
       "      <td>Butler Elizabeth Annette</td>\n",
       "      <td>AAS 170 - Legacies of Research (A)</td>\n",
       "      <td>SP23</td>\n",
       "      <td>20</td>\n",
       "      <td>7</td>\n",
       "      <td>100.0%</td>\n",
       "      <td>100.0%</td>\n",
       "      <td>2.50</td>\n",
       "      <td>A- (3.86)</td>\n",
       "      <td>A- (3.92)</td>\n",
       "      <td>https://cape.ucsd.edu/CAPEReport.aspx?sectioni...</td>\n",
       "    </tr>\n",
       "    <tr>\n",
       "      <th>2</th>\n",
       "      <td>Jones Ian William Nasser</td>\n",
       "      <td>ANAR 111 - Foundations of Archaeology (A)</td>\n",
       "      <td>SP23</td>\n",
       "      <td>16</td>\n",
       "      <td>3</td>\n",
       "      <td>100.0%</td>\n",
       "      <td>100.0%</td>\n",
       "      <td>3.83</td>\n",
       "      <td>B+ (3.67)</td>\n",
       "      <td>NaN</td>\n",
       "      <td>https://cape.ucsd.edu/CAPEReport.aspx?sectioni...</td>\n",
       "    </tr>\n",
       "    <tr>\n",
       "      <th>3</th>\n",
       "      <td>Shtienberg Gilad</td>\n",
       "      <td>ANAR 115 - Coastal Geomorphology/Environ (A)</td>\n",
       "      <td>SP23</td>\n",
       "      <td>26</td>\n",
       "      <td>6</td>\n",
       "      <td>100.0%</td>\n",
       "      <td>83.3%</td>\n",
       "      <td>3.83</td>\n",
       "      <td>B+ (3.50)</td>\n",
       "      <td>B (3.07)</td>\n",
       "      <td>https://cape.ucsd.edu/CAPEReport.aspx?sectioni...</td>\n",
       "    </tr>\n",
       "    <tr>\n",
       "      <th>4</th>\n",
       "      <td>Braswell Geoffrey E.</td>\n",
       "      <td>ANAR 155 - Stdy Abrd: Ancient Mesoamerica (A)</td>\n",
       "      <td>SP23</td>\n",
       "      <td>22</td>\n",
       "      <td>9</td>\n",
       "      <td>100.0%</td>\n",
       "      <td>100.0%</td>\n",
       "      <td>5.17</td>\n",
       "      <td>A (4.00)</td>\n",
       "      <td>A (4.00)</td>\n",
       "      <td>https://cape.ucsd.edu/CAPEReport.aspx?sectioni...</td>\n",
       "    </tr>\n",
       "  </tbody>\n",
       "</table>\n",
       "</div>"
      ],
      "text/plain": [
       "                 Instructor                                         Course  \\\n",
       "0  Butler Elizabeth Annette    AAS 10 - Intro/African-American Studies (A)   \n",
       "1  Butler Elizabeth Annette             AAS 170 - Legacies of Research (A)   \n",
       "2  Jones Ian William Nasser      ANAR 111 - Foundations of Archaeology (A)   \n",
       "3          Shtienberg Gilad   ANAR 115 - Coastal Geomorphology/Environ (A)   \n",
       "4      Braswell Geoffrey E.  ANAR 155 - Stdy Abrd: Ancient Mesoamerica (A)   \n",
       "\n",
       "  Quarter  Total Enrolled in Course  Total CAPEs Given  \\\n",
       "0    SP23                        66                 48   \n",
       "1    SP23                        20                  7   \n",
       "2    SP23                        16                  3   \n",
       "3    SP23                        26                  6   \n",
       "4    SP23                        22                  9   \n",
       "\n",
       "  Percentage Recommended Class Percentage Recommended Professor  \\\n",
       "0                        93.5%                           100.0%   \n",
       "1                       100.0%                           100.0%   \n",
       "2                       100.0%                           100.0%   \n",
       "3                       100.0%                            83.3%   \n",
       "4                       100.0%                           100.0%   \n",
       "\n",
       "   Study Hours per Week Average Grade Expected Average Grade Received  \\\n",
       "0                  2.80              A- (3.84)              B+ (3.67)   \n",
       "1                  2.50              A- (3.86)              A- (3.92)   \n",
       "2                  3.83              B+ (3.67)                    NaN   \n",
       "3                  3.83              B+ (3.50)               B (3.07)   \n",
       "4                  5.17               A (4.00)               A (4.00)   \n",
       "\n",
       "                                     Evalulation URL  \n",
       "0  https://cape.ucsd.edu/CAPEReport.aspx?sectioni...  \n",
       "1  https://cape.ucsd.edu/CAPEReport.aspx?sectioni...  \n",
       "2  https://cape.ucsd.edu/CAPEReport.aspx?sectioni...  \n",
       "3  https://cape.ucsd.edu/CAPEReport.aspx?sectioni...  \n",
       "4  https://cape.ucsd.edu/CAPEReport.aspx?sectioni...  "
      ]
     },
     "execution_count": 4,
     "metadata": {},
     "output_type": "execute_result"
    }
   ],
   "source": [
    "capes.head()"
   ]
  },
  {
   "cell_type": "code",
   "execution_count": 5,
   "metadata": {},
   "outputs": [
    {
     "data": {
      "text/plain": [
       "Instructor                           object\n",
       "Course                               object\n",
       "Quarter                              object\n",
       "Total Enrolled in Course              int64\n",
       "Total CAPEs Given                     int64\n",
       "Percentage Recommended Class         object\n",
       "Percentage Recommended Professor     object\n",
       "Study Hours per Week                float64\n",
       "Average Grade Expected               object\n",
       "Average Grade Received               object\n",
       "Evalulation URL                      object\n",
       "dtype: object"
      ]
     },
     "execution_count": 5,
     "metadata": {},
     "output_type": "execute_result"
    }
   ],
   "source": [
    "capes.dtypes"
   ]
  },
  {
   "cell_type": "code",
   "execution_count": 6,
   "metadata": {},
   "outputs": [],
   "source": [
    "#Dropping column as we cannot use it\n",
    "capes = capes.drop(columns = [\"Evalulation URL\", \"Instructor\"])"
   ]
  },
  {
   "cell_type": "code",
   "execution_count": 7,
   "metadata": {},
   "outputs": [
    {
     "data": {
      "text/plain": [
       "Course                                  0\n",
       "Quarter                                 0\n",
       "Total Enrolled in Course                0\n",
       "Total CAPEs Given                       0\n",
       "Percentage Recommended Class            0\n",
       "Percentage Recommended Professor        0\n",
       "Study Hours per Week                    1\n",
       "Average Grade Expected               1486\n",
       "Average Grade Received              17628\n",
       "dtype: int64"
      ]
     },
     "execution_count": 7,
     "metadata": {},
     "output_type": "execute_result"
    }
   ],
   "source": [
    "#checking for NA \n",
    "capes.isna().sum()\n"
   ]
  },
  {
   "cell_type": "code",
   "execution_count": 8,
   "metadata": {},
   "outputs": [
    {
     "data": {
      "text/plain": [
       "Course                              6028\n",
       "Quarter                               87\n",
       "Total Enrolled in Course             278\n",
       "Total CAPEs Given                    166\n",
       "Percentage Recommended Class         332\n",
       "Percentage Recommended Professor     322\n",
       "Study Hours per Week                 963\n",
       "Average Grade Expected               155\n",
       "Average Grade Received               135\n",
       "dtype: int64"
      ]
     },
     "execution_count": 8,
     "metadata": {},
     "output_type": "execute_result"
    }
   ],
   "source": [
    "#Investigating if NA in grades expected and recieved are from particular quarter(covid?)\n",
    "capes_na = capes[capes.isnull().any(axis=1)]\n",
    "capes_na.nunique()\n"
   ]
  },
  {
   "cell_type": "code",
   "execution_count": 9,
   "metadata": {},
   "outputs": [
    {
     "data": {
      "text/html": [
       "<div>\n",
       "<style scoped>\n",
       "    .dataframe tbody tr th:only-of-type {\n",
       "        vertical-align: middle;\n",
       "    }\n",
       "\n",
       "    .dataframe tbody tr th {\n",
       "        vertical-align: top;\n",
       "    }\n",
       "\n",
       "    .dataframe thead th {\n",
       "        text-align: right;\n",
       "    }\n",
       "</style>\n",
       "<table border=\"1\" class=\"dataframe\">\n",
       "  <thead>\n",
       "    <tr style=\"text-align: right;\">\n",
       "      <th></th>\n",
       "      <th>Course</th>\n",
       "      <th>Quarter</th>\n",
       "      <th>Total Enrolled in Course</th>\n",
       "      <th>Total CAPEs Given</th>\n",
       "      <th>Percentage Recommended Class</th>\n",
       "      <th>Percentage Recommended Professor</th>\n",
       "      <th>Study Hours per Week</th>\n",
       "      <th>Average Grade Expected</th>\n",
       "      <th>Average Grade Received</th>\n",
       "    </tr>\n",
       "  </thead>\n",
       "  <tbody>\n",
       "    <tr>\n",
       "      <th>2</th>\n",
       "      <td>ANAR 111 - Foundations of Archaeology (A)</td>\n",
       "      <td>SP23</td>\n",
       "      <td>16</td>\n",
       "      <td>3</td>\n",
       "      <td>100.0%</td>\n",
       "      <td>100.0%</td>\n",
       "      <td>3.83</td>\n",
       "      <td>B+ (3.67)</td>\n",
       "      <td>NaN</td>\n",
       "    </tr>\n",
       "    <tr>\n",
       "      <th>6</th>\n",
       "      <td>ANBI 135 - Genetic Anthro Lab Techniques (A)</td>\n",
       "      <td>SP23</td>\n",
       "      <td>14</td>\n",
       "      <td>9</td>\n",
       "      <td>100.0%</td>\n",
       "      <td>100.0%</td>\n",
       "      <td>5.39</td>\n",
       "      <td>A- (3.75)</td>\n",
       "      <td>NaN</td>\n",
       "    </tr>\n",
       "    <tr>\n",
       "      <th>11</th>\n",
       "      <td>ANSC 117 - Transgenderisms (A)</td>\n",
       "      <td>SP23</td>\n",
       "      <td>15</td>\n",
       "      <td>4</td>\n",
       "      <td>100.0%</td>\n",
       "      <td>100.0%</td>\n",
       "      <td>5.00</td>\n",
       "      <td>B+ (3.50)</td>\n",
       "      <td>NaN</td>\n",
       "    </tr>\n",
       "    <tr>\n",
       "      <th>18</th>\n",
       "      <td>ANSC 156 - Mad Films (A)</td>\n",
       "      <td>SP23</td>\n",
       "      <td>17</td>\n",
       "      <td>5</td>\n",
       "      <td>100.0%</td>\n",
       "      <td>100.0%</td>\n",
       "      <td>1.70</td>\n",
       "      <td>A- (3.80)</td>\n",
       "      <td>NaN</td>\n",
       "    </tr>\n",
       "    <tr>\n",
       "      <th>19</th>\n",
       "      <td>ANSC 173 - Ethnography in Practice (A)</td>\n",
       "      <td>SP23</td>\n",
       "      <td>12</td>\n",
       "      <td>7</td>\n",
       "      <td>100.0%</td>\n",
       "      <td>100.0%</td>\n",
       "      <td>3.07</td>\n",
       "      <td>A- (3.71)</td>\n",
       "      <td>NaN</td>\n",
       "    </tr>\n",
       "  </tbody>\n",
       "</table>\n",
       "</div>"
      ],
      "text/plain": [
       "                                          Course Quarter  \\\n",
       "2      ANAR 111 - Foundations of Archaeology (A)    SP23   \n",
       "6   ANBI 135 - Genetic Anthro Lab Techniques (A)    SP23   \n",
       "11                ANSC 117 - Transgenderisms (A)    SP23   \n",
       "18                      ANSC 156 - Mad Films (A)    SP23   \n",
       "19        ANSC 173 - Ethnography in Practice (A)    SP23   \n",
       "\n",
       "    Total Enrolled in Course  Total CAPEs Given Percentage Recommended Class  \\\n",
       "2                         16                  3                       100.0%   \n",
       "6                         14                  9                       100.0%   \n",
       "11                        15                  4                       100.0%   \n",
       "18                        17                  5                       100.0%   \n",
       "19                        12                  7                       100.0%   \n",
       "\n",
       "   Percentage Recommended Professor  Study Hours per Week  \\\n",
       "2                            100.0%                  3.83   \n",
       "6                            100.0%                  5.39   \n",
       "11                           100.0%                  5.00   \n",
       "18                           100.0%                  1.70   \n",
       "19                           100.0%                  3.07   \n",
       "\n",
       "   Average Grade Expected Average Grade Received  \n",
       "2               B+ (3.67)                    NaN  \n",
       "6               A- (3.75)                    NaN  \n",
       "11              B+ (3.50)                    NaN  \n",
       "18              A- (3.80)                    NaN  \n",
       "19              A- (3.71)                    NaN  "
      ]
     },
     "execution_count": 9,
     "metadata": {},
     "output_type": "execute_result"
    }
   ],
   "source": [
    "capes_na.head()"
   ]
  },
  {
   "cell_type": "code",
   "execution_count": 10,
   "metadata": {},
   "outputs": [
    {
     "data": {
      "text/plain": [
       "array(['SP23', 'WI23', 'FA22', 'S322', 'S222', 'S122', 'SP22', 'WI22',\n",
       "       'FA21', 'S321', 'S221', 'S121', 'SP21', 'WI21', 'FA20', 'S320',\n",
       "       'S220', 'S120', 'SP20', 'WI20', 'FA19', 'S319', 'S219', 'S119',\n",
       "       'SP19', 'WI19', 'FA18', 'S318', 'S218', 'S118', 'SP18', 'WI18',\n",
       "       'FA17', 'S317', 'S217', 'S117', 'SP17', 'WI17', 'FA16', 'S316',\n",
       "       'S216', 'S116', 'SP16', 'WI16', 'FA15', 'S215', 'S115', 'SP15',\n",
       "       'WI15', 'FA14', 'S314', 'S214', 'S114', 'SP14', 'WI14', 'FA13',\n",
       "       'S313', 'S213', 'S113', 'SP13', 'WI13', 'FA12', 'S312', 'S212',\n",
       "       'S112', 'SP12', 'WI12', 'FA11', 'S311', 'S211', 'S111', 'SP11',\n",
       "       'WI11', 'FA10', 'SU10', 'SP10', 'WI10', 'FA09', 'SU09', 'SP09',\n",
       "       'WI09', 'FA08', 'SU08', 'SP08', 'WI08', 'FA07', 'SU07'],\n",
       "      dtype=object)"
      ]
     },
     "execution_count": 10,
     "metadata": {},
     "output_type": "execute_result"
    }
   ],
   "source": [
    "capes_na[\"Quarter\"].unique()"
   ]
  },
  {
   "cell_type": "code",
   "execution_count": 11,
   "metadata": {},
   "outputs": [
    {
     "data": {
      "text/plain": [
       "(45393, 9)"
      ]
     },
     "execution_count": 11,
     "metadata": {},
     "output_type": "execute_result"
    }
   ],
   "source": [
    "#dropping all rows with NA as remaining dataset is still large enough and the NA rows are random\n",
    "capes = capes.dropna()\n",
    "capes.shape"
   ]
  },
  {
   "cell_type": "code",
   "execution_count": 12,
   "metadata": {},
   "outputs": [],
   "source": [
    "#Function to make the Average Grade Expected and Average Grade Recieved into floats of just the grade point\n",
    "#number\n",
    "def grade_standardize(grade):\n",
    "    \n",
    "    #ensure grade has not been standardized\n",
    "    if type(grade) == float:\n",
    "        return grade\n",
    "    \n",
    "    #retain only part after open parenthesis\n",
    "    grade = grade.split(\"(\")[-1]\n",
    "    \n",
    "    #remove close parenthesis\n",
    "    grade = grade.replace(\")\", \"\")\n",
    "    \n",
    "    #change to float\n",
    "    grade = float(grade)\n",
    "    \n",
    "    return grade\n",
    "    "
   ]
  },
  {
   "cell_type": "code",
   "execution_count": 13,
   "metadata": {},
   "outputs": [],
   "source": [
    "capes[\"Average Grade Expected\"] = capes[\"Average Grade Expected\"].apply(grade_standardize)\n",
    "capes[\"Average Grade Received\"] = capes[\"Average Grade Received\"].apply(grade_standardize)"
   ]
  },
  {
   "cell_type": "code",
   "execution_count": 14,
   "metadata": {},
   "outputs": [],
   "source": [
    "#function to remove % symbol from Percentage Recommended Class and Percentage Recommended Professor and make\n",
    "#into float\n",
    "\n",
    "def percent_standardize(percent):\n",
    "    #ensure percent has not been standardized\n",
    "    if type(percent) == float:\n",
    "        return percent\n",
    "    \n",
    "    #remove % sign\n",
    "    percent = percent.replace(\"%\", \"\")\n",
    "    \n",
    "    #convert to float\n",
    "    percent = float(percent)\n",
    "    \n",
    "    return percent\n",
    "        "
   ]
  },
  {
   "cell_type": "code",
   "execution_count": 15,
   "metadata": {},
   "outputs": [],
   "source": [
    "capes[\"Percentage Recommended Class\"] = capes[\"Percentage Recommended Class\"].apply(percent_standardize)\n",
    "capes[\"Percentage Recommended Professor\"] = capes[\"Percentage Recommended Professor\"].apply(percent_standardize)"
   ]
  },
  {
   "cell_type": "code",
   "execution_count": 16,
   "metadata": {},
   "outputs": [
    {
     "data": {
      "text/plain": [
       "Course                               object\n",
       "Quarter                              object\n",
       "Total Enrolled in Course              int64\n",
       "Total CAPEs Given                     int64\n",
       "Percentage Recommended Class        float64\n",
       "Percentage Recommended Professor    float64\n",
       "Study Hours per Week                float64\n",
       "Average Grade Expected              float64\n",
       "Average Grade Received              float64\n",
       "dtype: object"
      ]
     },
     "execution_count": 16,
     "metadata": {},
     "output_type": "execute_result"
    }
   ],
   "source": [
    "capes.dtypes"
   ]
  },
  {
   "cell_type": "code",
   "execution_count": 17,
   "metadata": {},
   "outputs": [],
   "source": [
    "#create new column called difference which is the difference between the average\n",
    "#grade expected and the average grade recieved\n",
    "#negative numbers in difference signify students overestimated their grade, positive number signifies students\n",
    "#underestimated their grade\n",
    "capes = capes.assign(Difference = capes[\"Average Grade Received\"] - capes[\"Average Grade Expected\"])"
   ]
  },
  {
   "cell_type": "code",
   "execution_count": 18,
   "metadata": {},
   "outputs": [],
   "source": [
    "#create columns for year and terms where each year will be an int (eg. 07, 08, 23, etc) and terms will be\n",
    "#denoted by numbers(see code)\n",
    "#this code is taken from https://github.com/COGS108/FinalProjects-Wi21/blob/main/FinalProject_group084.ipynb"
   ]
  },
  {
   "cell_type": "code",
   "execution_count": 19,
   "metadata": {},
   "outputs": [],
   "source": [
    "def extract_term(term):\n",
    "    TERMS = { \"WI\": 1, \"SP\": 2, \"S1\": 3, \"S2\": 4, \"S3\": 5, \"FA\": 6, \"SU\" : 7}\n",
    "    \n",
    "    term = term[:2]\n",
    "    term = TERMS[term]\n",
    "    \n",
    "    return term"
   ]
  },
  {
   "cell_type": "code",
   "execution_count": 20,
   "metadata": {},
   "outputs": [],
   "source": [
    "def extract_year(qtr):\n",
    "    \n",
    "    year = qtr[2:]\n",
    "    year = int(\"20\" + year)\n",
    "    \n",
    "    return year\n",
    "\n",
    "\n"
   ]
  },
  {
   "cell_type": "code",
   "execution_count": 21,
   "metadata": {},
   "outputs": [],
   "source": [
    "capes[\"Term\"] = capes[\"Quarter\"].apply(extract_term)\n",
    "capes[\"Year\"] = capes[\"Quarter\"].apply(extract_year)"
   ]
  },
  {
   "cell_type": "code",
   "execution_count": 22,
   "metadata": {},
   "outputs": [
    {
     "data": {
      "text/html": [
       "<div>\n",
       "<style scoped>\n",
       "    .dataframe tbody tr th:only-of-type {\n",
       "        vertical-align: middle;\n",
       "    }\n",
       "\n",
       "    .dataframe tbody tr th {\n",
       "        vertical-align: top;\n",
       "    }\n",
       "\n",
       "    .dataframe thead th {\n",
       "        text-align: right;\n",
       "    }\n",
       "</style>\n",
       "<table border=\"1\" class=\"dataframe\">\n",
       "  <thead>\n",
       "    <tr style=\"text-align: right;\">\n",
       "      <th></th>\n",
       "      <th>Course</th>\n",
       "      <th>Quarter</th>\n",
       "      <th>Total Enrolled in Course</th>\n",
       "      <th>Total CAPEs Given</th>\n",
       "      <th>Percentage Recommended Class</th>\n",
       "      <th>Percentage Recommended Professor</th>\n",
       "      <th>Study Hours per Week</th>\n",
       "      <th>Average Grade Expected</th>\n",
       "      <th>Average Grade Received</th>\n",
       "      <th>Difference</th>\n",
       "      <th>Term</th>\n",
       "      <th>Year</th>\n",
       "    </tr>\n",
       "  </thead>\n",
       "  <tbody>\n",
       "    <tr>\n",
       "      <th>0</th>\n",
       "      <td>AAS 10 - Intro/African-American Studies (A)</td>\n",
       "      <td>SP23</td>\n",
       "      <td>66</td>\n",
       "      <td>48</td>\n",
       "      <td>93.5</td>\n",
       "      <td>100.0</td>\n",
       "      <td>2.80</td>\n",
       "      <td>3.84</td>\n",
       "      <td>3.67</td>\n",
       "      <td>-0.17</td>\n",
       "      <td>2</td>\n",
       "      <td>2023</td>\n",
       "    </tr>\n",
       "    <tr>\n",
       "      <th>1</th>\n",
       "      <td>AAS 170 - Legacies of Research (A)</td>\n",
       "      <td>SP23</td>\n",
       "      <td>20</td>\n",
       "      <td>7</td>\n",
       "      <td>100.0</td>\n",
       "      <td>100.0</td>\n",
       "      <td>2.50</td>\n",
       "      <td>3.86</td>\n",
       "      <td>3.92</td>\n",
       "      <td>0.06</td>\n",
       "      <td>2</td>\n",
       "      <td>2023</td>\n",
       "    </tr>\n",
       "    <tr>\n",
       "      <th>3</th>\n",
       "      <td>ANAR 115 - Coastal Geomorphology/Environ (A)</td>\n",
       "      <td>SP23</td>\n",
       "      <td>26</td>\n",
       "      <td>6</td>\n",
       "      <td>100.0</td>\n",
       "      <td>83.3</td>\n",
       "      <td>3.83</td>\n",
       "      <td>3.50</td>\n",
       "      <td>3.07</td>\n",
       "      <td>-0.43</td>\n",
       "      <td>2</td>\n",
       "      <td>2023</td>\n",
       "    </tr>\n",
       "    <tr>\n",
       "      <th>4</th>\n",
       "      <td>ANAR 155 - Stdy Abrd: Ancient Mesoamerica (A)</td>\n",
       "      <td>SP23</td>\n",
       "      <td>22</td>\n",
       "      <td>9</td>\n",
       "      <td>100.0</td>\n",
       "      <td>100.0</td>\n",
       "      <td>5.17</td>\n",
       "      <td>4.00</td>\n",
       "      <td>4.00</td>\n",
       "      <td>0.00</td>\n",
       "      <td>2</td>\n",
       "      <td>2023</td>\n",
       "    </tr>\n",
       "    <tr>\n",
       "      <th>5</th>\n",
       "      <td>ANBI 111 - Human Evolution (A)</td>\n",
       "      <td>SP23</td>\n",
       "      <td>22</td>\n",
       "      <td>4</td>\n",
       "      <td>100.0</td>\n",
       "      <td>100.0</td>\n",
       "      <td>2.50</td>\n",
       "      <td>4.00</td>\n",
       "      <td>2.95</td>\n",
       "      <td>-1.05</td>\n",
       "      <td>2</td>\n",
       "      <td>2023</td>\n",
       "    </tr>\n",
       "  </tbody>\n",
       "</table>\n",
       "</div>"
      ],
      "text/plain": [
       "                                          Course Quarter  \\\n",
       "0    AAS 10 - Intro/African-American Studies (A)    SP23   \n",
       "1             AAS 170 - Legacies of Research (A)    SP23   \n",
       "3   ANAR 115 - Coastal Geomorphology/Environ (A)    SP23   \n",
       "4  ANAR 155 - Stdy Abrd: Ancient Mesoamerica (A)    SP23   \n",
       "5                 ANBI 111 - Human Evolution (A)    SP23   \n",
       "\n",
       "   Total Enrolled in Course  Total CAPEs Given  Percentage Recommended Class  \\\n",
       "0                        66                 48                          93.5   \n",
       "1                        20                  7                         100.0   \n",
       "3                        26                  6                         100.0   \n",
       "4                        22                  9                         100.0   \n",
       "5                        22                  4                         100.0   \n",
       "\n",
       "   Percentage Recommended Professor  Study Hours per Week  \\\n",
       "0                             100.0                  2.80   \n",
       "1                             100.0                  2.50   \n",
       "3                              83.3                  3.83   \n",
       "4                             100.0                  5.17   \n",
       "5                             100.0                  2.50   \n",
       "\n",
       "   Average Grade Expected  Average Grade Received  Difference  Term  Year  \n",
       "0                    3.84                    3.67       -0.17     2  2023  \n",
       "1                    3.86                    3.92        0.06     2  2023  \n",
       "3                    3.50                    3.07       -0.43     2  2023  \n",
       "4                    4.00                    4.00        0.00     2  2023  \n",
       "5                    4.00                    2.95       -1.05     2  2023  "
      ]
     },
     "execution_count": 22,
     "metadata": {},
     "output_type": "execute_result"
    }
   ],
   "source": [
    "capes.head()"
   ]
  },
  {
   "cell_type": "code",
   "execution_count": 23,
   "metadata": {},
   "outputs": [
    {
     "data": {
      "text/plain": [
       "Course                               object\n",
       "Quarter                              object\n",
       "Total Enrolled in Course              int64\n",
       "Total CAPEs Given                     int64\n",
       "Percentage Recommended Class        float64\n",
       "Percentage Recommended Professor    float64\n",
       "Study Hours per Week                float64\n",
       "Average Grade Expected              float64\n",
       "Average Grade Received              float64\n",
       "Difference                          float64\n",
       "Term                                  int64\n",
       "Year                                  int64\n",
       "dtype: object"
      ]
     },
     "execution_count": 23,
     "metadata": {},
     "output_type": "execute_result"
    }
   ],
   "source": [
    "capes.dtypes"
   ]
  },
  {
   "cell_type": "code",
   "execution_count": 24,
   "metadata": {},
   "outputs": [
    {
     "data": {
      "text/html": [
       "<div>\n",
       "<style scoped>\n",
       "    .dataframe tbody tr th:only-of-type {\n",
       "        vertical-align: middle;\n",
       "    }\n",
       "\n",
       "    .dataframe tbody tr th {\n",
       "        vertical-align: top;\n",
       "    }\n",
       "\n",
       "    .dataframe thead th {\n",
       "        text-align: right;\n",
       "    }\n",
       "</style>\n",
       "<table border=\"1\" class=\"dataframe\">\n",
       "  <thead>\n",
       "    <tr style=\"text-align: right;\">\n",
       "      <th></th>\n",
       "      <th>Total Enrolled in Course</th>\n",
       "      <th>Total CAPEs Given</th>\n",
       "      <th>Percentage Recommended Class</th>\n",
       "      <th>Percentage Recommended Professor</th>\n",
       "      <th>Study Hours per Week</th>\n",
       "      <th>Average Grade Expected</th>\n",
       "      <th>Average Grade Received</th>\n",
       "      <th>Difference</th>\n",
       "      <th>Term</th>\n",
       "      <th>Year</th>\n",
       "    </tr>\n",
       "  </thead>\n",
       "  <tbody>\n",
       "    <tr>\n",
       "      <th>count</th>\n",
       "      <td>45393.000000</td>\n",
       "      <td>45393.000000</td>\n",
       "      <td>45393.000000</td>\n",
       "      <td>45393.000000</td>\n",
       "      <td>45393.000000</td>\n",
       "      <td>45393.000000</td>\n",
       "      <td>45393.000000</td>\n",
       "      <td>45393.000000</td>\n",
       "      <td>45393.000000</td>\n",
       "      <td>45393.000000</td>\n",
       "    </tr>\n",
       "    <tr>\n",
       "      <th>mean</th>\n",
       "      <td>99.476637</td>\n",
       "      <td>50.702047</td>\n",
       "      <td>88.010850</td>\n",
       "      <td>88.267233</td>\n",
       "      <td>5.827672</td>\n",
       "      <td>3.479624</td>\n",
       "      <td>3.271943</td>\n",
       "      <td>-0.207682</td>\n",
       "      <td>3.002401</td>\n",
       "      <td>2015.932258</td>\n",
       "    </tr>\n",
       "    <tr>\n",
       "      <th>std</th>\n",
       "      <td>93.293638</td>\n",
       "      <td>52.987864</td>\n",
       "      <td>12.260053</td>\n",
       "      <td>14.430897</td>\n",
       "      <td>2.346697</td>\n",
       "      <td>0.297638</td>\n",
       "      <td>0.404402</td>\n",
       "      <td>0.278231</td>\n",
       "      <td>2.049306</td>\n",
       "      <td>4.595074</td>\n",
       "    </tr>\n",
       "    <tr>\n",
       "      <th>min</th>\n",
       "      <td>20.000000</td>\n",
       "      <td>3.000000</td>\n",
       "      <td>0.000000</td>\n",
       "      <td>0.000000</td>\n",
       "      <td>0.500000</td>\n",
       "      <td>1.600000</td>\n",
       "      <td>0.550000</td>\n",
       "      <td>-2.240000</td>\n",
       "      <td>1.000000</td>\n",
       "      <td>2007.000000</td>\n",
       "    </tr>\n",
       "    <tr>\n",
       "      <th>25%</th>\n",
       "      <td>33.000000</td>\n",
       "      <td>16.000000</td>\n",
       "      <td>82.400000</td>\n",
       "      <td>83.300000</td>\n",
       "      <td>4.230000</td>\n",
       "      <td>3.280000</td>\n",
       "      <td>2.970000</td>\n",
       "      <td>-0.380000</td>\n",
       "      <td>1.000000</td>\n",
       "      <td>2012.000000</td>\n",
       "    </tr>\n",
       "    <tr>\n",
       "      <th>50%</th>\n",
       "      <td>63.000000</td>\n",
       "      <td>31.000000</td>\n",
       "      <td>91.100000</td>\n",
       "      <td>93.100000</td>\n",
       "      <td>5.430000</td>\n",
       "      <td>3.490000</td>\n",
       "      <td>3.280000</td>\n",
       "      <td>-0.180000</td>\n",
       "      <td>2.000000</td>\n",
       "      <td>2016.000000</td>\n",
       "    </tr>\n",
       "    <tr>\n",
       "      <th>75%</th>\n",
       "      <td>136.000000</td>\n",
       "      <td>67.000000</td>\n",
       "      <td>97.600000</td>\n",
       "      <td>100.000000</td>\n",
       "      <td>7.000000</td>\n",
       "      <td>3.700000</td>\n",
       "      <td>3.580000</td>\n",
       "      <td>-0.020000</td>\n",
       "      <td>6.000000</td>\n",
       "      <td>2020.000000</td>\n",
       "    </tr>\n",
       "    <tr>\n",
       "      <th>max</th>\n",
       "      <td>1101.000000</td>\n",
       "      <td>588.000000</td>\n",
       "      <td>100.000000</td>\n",
       "      <td>100.000000</td>\n",
       "      <td>20.330000</td>\n",
       "      <td>4.000000</td>\n",
       "      <td>4.000000</td>\n",
       "      <td>1.600000</td>\n",
       "      <td>6.000000</td>\n",
       "      <td>2023.000000</td>\n",
       "    </tr>\n",
       "  </tbody>\n",
       "</table>\n",
       "</div>"
      ],
      "text/plain": [
       "       Total Enrolled in Course  Total CAPEs Given  \\\n",
       "count              45393.000000       45393.000000   \n",
       "mean                  99.476637          50.702047   \n",
       "std                   93.293638          52.987864   \n",
       "min                   20.000000           3.000000   \n",
       "25%                   33.000000          16.000000   \n",
       "50%                   63.000000          31.000000   \n",
       "75%                  136.000000          67.000000   \n",
       "max                 1101.000000         588.000000   \n",
       "\n",
       "       Percentage Recommended Class  Percentage Recommended Professor  \\\n",
       "count                  45393.000000                      45393.000000   \n",
       "mean                      88.010850                         88.267233   \n",
       "std                       12.260053                         14.430897   \n",
       "min                        0.000000                          0.000000   \n",
       "25%                       82.400000                         83.300000   \n",
       "50%                       91.100000                         93.100000   \n",
       "75%                       97.600000                        100.000000   \n",
       "max                      100.000000                        100.000000   \n",
       "\n",
       "       Study Hours per Week  Average Grade Expected  Average Grade Received  \\\n",
       "count          45393.000000            45393.000000            45393.000000   \n",
       "mean               5.827672                3.479624                3.271943   \n",
       "std                2.346697                0.297638                0.404402   \n",
       "min                0.500000                1.600000                0.550000   \n",
       "25%                4.230000                3.280000                2.970000   \n",
       "50%                5.430000                3.490000                3.280000   \n",
       "75%                7.000000                3.700000                3.580000   \n",
       "max               20.330000                4.000000                4.000000   \n",
       "\n",
       "         Difference          Term          Year  \n",
       "count  45393.000000  45393.000000  45393.000000  \n",
       "mean      -0.207682      3.002401   2015.932258  \n",
       "std        0.278231      2.049306      4.595074  \n",
       "min       -2.240000      1.000000   2007.000000  \n",
       "25%       -0.380000      1.000000   2012.000000  \n",
       "50%       -0.180000      2.000000   2016.000000  \n",
       "75%       -0.020000      6.000000   2020.000000  \n",
       "max        1.600000      6.000000   2023.000000  "
      ]
     },
     "execution_count": 24,
     "metadata": {},
     "output_type": "execute_result"
    }
   ],
   "source": [
    "capes.describe()"
   ]
  },
  {
   "cell_type": "code",
   "execution_count": 25,
   "metadata": {},
   "outputs": [
    {
     "data": {
      "text/plain": [
       "Course                              False\n",
       "Quarter                             False\n",
       "Total Enrolled in Course            False\n",
       "Total CAPEs Given                   False\n",
       "Percentage Recommended Class        False\n",
       "Percentage Recommended Professor    False\n",
       "Study Hours per Week                False\n",
       "Average Grade Expected              False\n",
       "Average Grade Received              False\n",
       "Difference                          False\n",
       "Term                                False\n",
       "Year                                False\n",
       "dtype: bool"
      ]
     },
     "execution_count": 25,
     "metadata": {},
     "output_type": "execute_result"
    }
   ],
   "source": [
    "capes.isna().any()"
   ]
  },
  {
   "cell_type": "code",
   "execution_count": 41,
   "metadata": {},
   "outputs": [
    {
     "data": {
      "text/plain": [
       "MATH    3104\n",
       "CSE     2312\n",
       "ECON    2115\n",
       "CHEM    2056\n",
       "MGT     2026\n",
       "        ... \n",
       "ERC        3\n",
       "HIGL       3\n",
       "TDCH       2\n",
       "LTAF       2\n",
       "JWSP       1\n",
       "Name: Course, Length: 125, dtype: int64"
      ]
     },
     "execution_count": 41,
     "metadata": {},
     "output_type": "execute_result"
    }
   ],
   "source": [
    "#getting the types of courses in the dataset for potential grouping based on STEM vs liberal\n",
    "capes['Course'].apply(lambda x: x.split(' ')[0]).value_counts()"
   ]
  },
  {
   "cell_type": "code",
   "execution_count": 38,
   "metadata": {},
   "outputs": [],
   "source": [
    "#categories given for the top 100 course codes\n",
    "#note some classes can be considered both since they are multidiciplinary like COGS\n",
    "#classes offered as both BS and CA: COGS, ESYS, HDS, SYN, ICAM\n",
    "#unsure due to no information found COSF, cogn, comt, SOCC\n",
    "stem_courses = ['MATH', 'CSE', 'CHEM', 'PHYS', 'MAE', 'ECE', 'BILD', 'SE', 'BENG', 'BIPN', 'BIEB', 'NANO'\\\n",
    "               'DSC','ENG', 'BISP', 'FPMU' ]\n",
    "liberal_courses = ['ECON','POLI', 'MGT', 'PSYC', 'VIS', 'SOCI', \\\n",
    "                   'COGS', 'COMM', 'MUS', 'PHIL', 'SIO', 'TMDV', 'JAPN', 'CHIN', 'EDS', 'MMW', 'ETHN', 'USP', \\\n",
    "                   'LIGN', 'TDGE', 'ANTH', 'HIUS', 'AWP', 'LTWL', 'DOC', 'FMPH', 'HILD', 'HDP', 'INTL', \\\n",
    "                   'LSTP', 'HIEA', 'GLBH', 'CGS', 'WCWP', 'TDHT', 'HILA', 'ESYS', 'ANBI', 'HINE', 'COCU', \\\n",
    "                   'LTKO', 'LIHL', 'RELI', 'COHI', 'ENVR', 'LTCS', 'HDS', 'ANAR', 'LTLA', 'TDTR', 'HITO'\\\n",
    "                   'LATI', 'TDDR', 'HIAF', 'LTEU', 'TWS', 'DSGN', 'LTRU', 'TDDE', 'ELWR', 'SOCB', 'LAWS'\\\n",
    "                   'LTCH', 'LTIT']"
   ]
  },
  {
   "cell_type": "code",
   "execution_count": 51,
   "metadata": {},
   "outputs": [],
   "source": [
    "#defining a function to add this label based on the class code\n",
    "def course_cat(code):\n",
    "    if code in stem_courses:\n",
    "        return 'stem'\n",
    "    elif code in liberal_courses:\n",
    "        return 'liberal'\n",
    "    else:\n",
    "        return "
   ]
  },
  {
   "cell_type": "code",
   "execution_count": 64,
   "metadata": {},
   "outputs": [
    {
     "data": {
      "text/html": [
       "<div>\n",
       "<style scoped>\n",
       "    .dataframe tbody tr th:only-of-type {\n",
       "        vertical-align: middle;\n",
       "    }\n",
       "\n",
       "    .dataframe tbody tr th {\n",
       "        vertical-align: top;\n",
       "    }\n",
       "\n",
       "    .dataframe thead th {\n",
       "        text-align: right;\n",
       "    }\n",
       "</style>\n",
       "<table border=\"1\" class=\"dataframe\">\n",
       "  <thead>\n",
       "    <tr style=\"text-align: right;\">\n",
       "      <th></th>\n",
       "      <th>Course</th>\n",
       "      <th>Quarter</th>\n",
       "      <th>Total Enrolled in Course</th>\n",
       "      <th>Total CAPEs Given</th>\n",
       "      <th>Percentage Recommended Class</th>\n",
       "      <th>Percentage Recommended Professor</th>\n",
       "      <th>Study Hours per Week</th>\n",
       "      <th>Average Grade Expected</th>\n",
       "      <th>Average Grade Received</th>\n",
       "      <th>Difference</th>\n",
       "      <th>Term</th>\n",
       "      <th>Year</th>\n",
       "      <th>Category</th>\n",
       "    </tr>\n",
       "  </thead>\n",
       "  <tbody>\n",
       "    <tr>\n",
       "      <th>3</th>\n",
       "      <td>ANAR 115 - Coastal Geomorphology/Environ (A)</td>\n",
       "      <td>SP23</td>\n",
       "      <td>26</td>\n",
       "      <td>6</td>\n",
       "      <td>100.0</td>\n",
       "      <td>83.3</td>\n",
       "      <td>3.83</td>\n",
       "      <td>3.50</td>\n",
       "      <td>3.07</td>\n",
       "      <td>-0.43</td>\n",
       "      <td>2</td>\n",
       "      <td>2023</td>\n",
       "      <td>liberal</td>\n",
       "    </tr>\n",
       "    <tr>\n",
       "      <th>4</th>\n",
       "      <td>ANAR 155 - Stdy Abrd: Ancient Mesoamerica (A)</td>\n",
       "      <td>SP23</td>\n",
       "      <td>22</td>\n",
       "      <td>9</td>\n",
       "      <td>100.0</td>\n",
       "      <td>100.0</td>\n",
       "      <td>5.17</td>\n",
       "      <td>4.00</td>\n",
       "      <td>4.00</td>\n",
       "      <td>0.00</td>\n",
       "      <td>2</td>\n",
       "      <td>2023</td>\n",
       "      <td>liberal</td>\n",
       "    </tr>\n",
       "    <tr>\n",
       "      <th>5</th>\n",
       "      <td>ANBI 111 - Human Evolution (A)</td>\n",
       "      <td>SP23</td>\n",
       "      <td>22</td>\n",
       "      <td>4</td>\n",
       "      <td>100.0</td>\n",
       "      <td>100.0</td>\n",
       "      <td>2.50</td>\n",
       "      <td>4.00</td>\n",
       "      <td>2.95</td>\n",
       "      <td>-1.05</td>\n",
       "      <td>2</td>\n",
       "      <td>2023</td>\n",
       "      <td>liberal</td>\n",
       "    </tr>\n",
       "    <tr>\n",
       "      <th>7</th>\n",
       "      <td>ANBI 140 - Evolution of Human Brain (A)</td>\n",
       "      <td>SP23</td>\n",
       "      <td>36</td>\n",
       "      <td>12</td>\n",
       "      <td>63.6</td>\n",
       "      <td>72.7</td>\n",
       "      <td>6.17</td>\n",
       "      <td>3.00</td>\n",
       "      <td>2.53</td>\n",
       "      <td>-0.47</td>\n",
       "      <td>2</td>\n",
       "      <td>2023</td>\n",
       "      <td>liberal</td>\n",
       "    </tr>\n",
       "    <tr>\n",
       "      <th>8</th>\n",
       "      <td>ANBI 173 - How Monkeys See the World (A)</td>\n",
       "      <td>SP23</td>\n",
       "      <td>20</td>\n",
       "      <td>6</td>\n",
       "      <td>83.3</td>\n",
       "      <td>83.3</td>\n",
       "      <td>4.83</td>\n",
       "      <td>3.50</td>\n",
       "      <td>3.51</td>\n",
       "      <td>0.01</td>\n",
       "      <td>2</td>\n",
       "      <td>2023</td>\n",
       "      <td>liberal</td>\n",
       "    </tr>\n",
       "    <tr>\n",
       "      <th>...</th>\n",
       "      <td>...</td>\n",
       "      <td>...</td>\n",
       "      <td>...</td>\n",
       "      <td>...</td>\n",
       "      <td>...</td>\n",
       "      <td>...</td>\n",
       "      <td>...</td>\n",
       "      <td>...</td>\n",
       "      <td>...</td>\n",
       "      <td>...</td>\n",
       "      <td>...</td>\n",
       "      <td>...</td>\n",
       "      <td>...</td>\n",
       "    </tr>\n",
       "    <tr>\n",
       "      <th>63005</th>\n",
       "      <td>VIS 21A  - Int/ArtAmericas/Africa/Oceania (A)</td>\n",
       "      <td>FA07</td>\n",
       "      <td>230</td>\n",
       "      <td>160</td>\n",
       "      <td>55.1</td>\n",
       "      <td>41.1</td>\n",
       "      <td>2.63</td>\n",
       "      <td>3.70</td>\n",
       "      <td>3.41</td>\n",
       "      <td>-0.29</td>\n",
       "      <td>6</td>\n",
       "      <td>2007</td>\n",
       "      <td>liberal</td>\n",
       "    </tr>\n",
       "    <tr>\n",
       "      <th>63006</th>\n",
       "      <td>VIS 3 - Intr/Art-Making:3-D Practices  (A)</td>\n",
       "      <td>FA07</td>\n",
       "      <td>300</td>\n",
       "      <td>220</td>\n",
       "      <td>67.3</td>\n",
       "      <td>65.7</td>\n",
       "      <td>4.54</td>\n",
       "      <td>3.65</td>\n",
       "      <td>3.52</td>\n",
       "      <td>-0.13</td>\n",
       "      <td>6</td>\n",
       "      <td>2007</td>\n",
       "      <td>liberal</td>\n",
       "    </tr>\n",
       "    <tr>\n",
       "      <th>63007</th>\n",
       "      <td>VIS 60 - Introduction to Photography    (A)</td>\n",
       "      <td>FA07</td>\n",
       "      <td>66</td>\n",
       "      <td>44</td>\n",
       "      <td>90.7</td>\n",
       "      <td>54.8</td>\n",
       "      <td>4.50</td>\n",
       "      <td>3.67</td>\n",
       "      <td>3.36</td>\n",
       "      <td>-0.31</td>\n",
       "      <td>6</td>\n",
       "      <td>2007</td>\n",
       "      <td>liberal</td>\n",
       "    </tr>\n",
       "    <tr>\n",
       "      <th>63008</th>\n",
       "      <td>VIS 70N  - Introduction to Media          (A)</td>\n",
       "      <td>FA07</td>\n",
       "      <td>226</td>\n",
       "      <td>77</td>\n",
       "      <td>98.7</td>\n",
       "      <td>100.0</td>\n",
       "      <td>2.71</td>\n",
       "      <td>3.84</td>\n",
       "      <td>3.73</td>\n",
       "      <td>-0.11</td>\n",
       "      <td>6</td>\n",
       "      <td>2007</td>\n",
       "      <td>liberal</td>\n",
       "    </tr>\n",
       "    <tr>\n",
       "      <th>63009</th>\n",
       "      <td>VIS 84 - History Of Film                (A)</td>\n",
       "      <td>FA07</td>\n",
       "      <td>224</td>\n",
       "      <td>153</td>\n",
       "      <td>53.9</td>\n",
       "      <td>32.2</td>\n",
       "      <td>3.42</td>\n",
       "      <td>3.23</td>\n",
       "      <td>3.08</td>\n",
       "      <td>-0.15</td>\n",
       "      <td>6</td>\n",
       "      <td>2007</td>\n",
       "      <td>liberal</td>\n",
       "    </tr>\n",
       "  </tbody>\n",
       "</table>\n",
       "<p>38401 rows × 13 columns</p>\n",
       "</div>"
      ],
      "text/plain": [
       "                                              Course Quarter  \\\n",
       "3       ANAR 115 - Coastal Geomorphology/Environ (A)    SP23   \n",
       "4      ANAR 155 - Stdy Abrd: Ancient Mesoamerica (A)    SP23   \n",
       "5                     ANBI 111 - Human Evolution (A)    SP23   \n",
       "7            ANBI 140 - Evolution of Human Brain (A)    SP23   \n",
       "8           ANBI 173 - How Monkeys See the World (A)    SP23   \n",
       "...                                              ...     ...   \n",
       "63005  VIS 21A  - Int/ArtAmericas/Africa/Oceania (A)    FA07   \n",
       "63006     VIS 3 - Intr/Art-Making:3-D Practices  (A)    FA07   \n",
       "63007    VIS 60 - Introduction to Photography    (A)    FA07   \n",
       "63008  VIS 70N  - Introduction to Media          (A)    FA07   \n",
       "63009    VIS 84 - History Of Film                (A)    FA07   \n",
       "\n",
       "       Total Enrolled in Course  Total CAPEs Given  \\\n",
       "3                            26                  6   \n",
       "4                            22                  9   \n",
       "5                            22                  4   \n",
       "7                            36                 12   \n",
       "8                            20                  6   \n",
       "...                         ...                ...   \n",
       "63005                       230                160   \n",
       "63006                       300                220   \n",
       "63007                        66                 44   \n",
       "63008                       226                 77   \n",
       "63009                       224                153   \n",
       "\n",
       "       Percentage Recommended Class  Percentage Recommended Professor  \\\n",
       "3                             100.0                              83.3   \n",
       "4                             100.0                             100.0   \n",
       "5                             100.0                             100.0   \n",
       "7                              63.6                              72.7   \n",
       "8                              83.3                              83.3   \n",
       "...                             ...                               ...   \n",
       "63005                          55.1                              41.1   \n",
       "63006                          67.3                              65.7   \n",
       "63007                          90.7                              54.8   \n",
       "63008                          98.7                             100.0   \n",
       "63009                          53.9                              32.2   \n",
       "\n",
       "       Study Hours per Week  Average Grade Expected  Average Grade Received  \\\n",
       "3                      3.83                    3.50                    3.07   \n",
       "4                      5.17                    4.00                    4.00   \n",
       "5                      2.50                    4.00                    2.95   \n",
       "7                      6.17                    3.00                    2.53   \n",
       "8                      4.83                    3.50                    3.51   \n",
       "...                     ...                     ...                     ...   \n",
       "63005                  2.63                    3.70                    3.41   \n",
       "63006                  4.54                    3.65                    3.52   \n",
       "63007                  4.50                    3.67                    3.36   \n",
       "63008                  2.71                    3.84                    3.73   \n",
       "63009                  3.42                    3.23                    3.08   \n",
       "\n",
       "       Difference  Term  Year Category  \n",
       "3           -0.43     2  2023  liberal  \n",
       "4            0.00     2  2023  liberal  \n",
       "5           -1.05     2  2023  liberal  \n",
       "7           -0.47     2  2023  liberal  \n",
       "8            0.01     2  2023  liberal  \n",
       "...           ...   ...   ...      ...  \n",
       "63005       -0.29     6  2007  liberal  \n",
       "63006       -0.13     6  2007  liberal  \n",
       "63007       -0.31     6  2007  liberal  \n",
       "63008       -0.11     6  2007  liberal  \n",
       "63009       -0.15     6  2007  liberal  \n",
       "\n",
       "[38401 rows x 13 columns]"
      ]
     },
     "execution_count": 64,
     "metadata": {},
     "output_type": "execute_result"
    }
   ],
   "source": [
    "#creating a new dataframe with the categories and filtering for these classes\n",
    "capes_categorized = capes\n",
    "capes_categorized['Category'] = capes['Course'].apply(lambda x: x.split(' ')[0]).apply(course_cat)\n",
    "capes_categorized[(capes_categorized['Category']=='liberal')|(capes_categorized['Category']=='stem')]"
   ]
  },
  {
   "cell_type": "markdown",
   "metadata": {},
   "source": [
    "# Results\n",
    "\n",
    "## Exploratory Data Analysis\n",
    "\n",
    "Carry out whatever EDA you need to for your project.  Because every project will be different we can't really give you much of a template at this point. But please make sure you describe the what and why in text here as well as providing interpretation of results and context."
   ]
  },
  {
   "cell_type": "markdown",
   "metadata": {},
   "source": [
    "### Section 1 of EDA - please give it a better title than this\n",
    "\n",
    "Some more words and stuff.  Remember notebooks work best if you interleave the code that generates a result with properly annotate figures and text that puts these results into context."
   ]
  },
  {
   "cell_type": "code",
   "execution_count": null,
   "metadata": {},
   "outputs": [],
   "source": [
    "## YOUR CODE HERE\n",
    "## FEEL FREE TO ADD MULTIPLE CELLS PER SECTION"
   ]
  },
  {
   "cell_type": "markdown",
   "metadata": {},
   "source": [
    "### Section 2 of EDA if you need it  - please give it a better title than this\n",
    "\n",
    "Some more words and stuff.  Remember notebooks work best if you interleave the code that generates a result with properly annotate figures and text that puts these results into context."
   ]
  },
  {
   "cell_type": "code",
   "execution_count": null,
   "metadata": {},
   "outputs": [],
   "source": [
    "## YOUR CODE HERE\n",
    "## FEEL FREE TO ADD MULTIPLE CELLS PER SECTION"
   ]
  },
  {
   "cell_type": "markdown",
   "metadata": {},
   "source": [
    "# Ethics & Privacy"
   ]
  },
  {
   "cell_type": "markdown",
   "metadata": {},
   "source": [
    "- Thoughtful discussion of ethical concerns included\n",
    "- Ethical concerns consider the whole data science process (question asked, data collected, data being used, the bias in data, analysis, post-analysis, etc.)\n",
    "- How your group handled bias/ethical concerns clearly described\n",
    "\n",
    "Acknowledge and address any ethics & privacy related issues of your question(s), proposed dataset(s), and/or analyses. Use the information provided in lecture to guide your group discussion and thinking. If you need further guidance, check out [Deon's Ethics Checklist](http://deon.drivendata.org/#data-science-ethics-checklist). In particular:\n",
    "\n",
    "- Are there any biases/privacy/terms of use issues with the data you propsed?\n",
    "- Are there potential biases in your dataset(s), in terms of who it composes, and how it was collected, that may be problematic in terms of it allowing for equitable analysis? (For example, does your data exclude particular populations, or is it likely to reflect particular human biases in a way that could be a problem?)\n",
    "- How will you set out to detect these specific biases before, during, and after/when communicating your analysis?\n",
    "- Are there any other issues related to your topic area, data, and/or analyses that are potentially problematic in terms of data privacy and equitable impact?\n",
    "- How will you handle issues you identified?"
   ]
  },
  {
   "cell_type": "markdown",
   "metadata": {},
   "source": [
    "# Team Expectations "
   ]
  },
  {
   "cell_type": "markdown",
   "metadata": {},
   "source": [
    "\n",
    "Read over the [COGS108 Team Policies](https://github.com/COGS108/Projects/blob/master/COGS108_TeamPolicies.md) individually. Then, include your group’s expectations of one another for successful completion of your COGS108 project below. Discuss and agree on what all of your expectations are. Discuss how your team will communicate throughout the quarter and consider how you will communicate respectfully should conflicts arise. By including each member’s name above and by adding their name to the submission, you are indicating that you have read the COGS108 Team Policies, accept your team’s expectations below, and have every intention to fulfill them. These expectations are for your team’s use and benefit — they won’t be graded for their details.\n",
    "\n",
    "* *Team Expectation 1*\n",
    "* *Team Expectation 2*\n",
    "* *Team Expecation 3*\n",
    "* ..."
   ]
  },
  {
   "cell_type": "markdown",
   "metadata": {},
   "source": [
    "# Project Timeline Proposal"
   ]
  },
  {
   "cell_type": "markdown",
   "metadata": {},
   "source": [
    "Specify your team's specific project timeline. An example timeline has been provided. Changes the dates, times, names, and details to fit your group's plan.\n",
    "\n",
    "If you think you will need any special resources or training outside what we have covered in COGS 108 to solve your problem, then your proposal should state these clearly. For example, if you have selected a problem that involves implementing multiple neural networks, please state this so we can make sure you know what you’re doing and so we can point you to resources you will need to implement your project. Note that you are not required to use outside methods.\n",
    "\n",
    "\n",
    "\n",
    "| Meeting Date  | Meeting Time| Completed Before Meeting  | Discuss at Meeting |\n",
    "|---|---|---|---|\n",
    "| 1/20  |  1 PM | Read & Think about COGS 108 expectations; brainstorm topics/questions  | Determine best form of communication; Discuss and decide on final project topic; discuss hypothesis; begin background research | \n",
    "| 1/26  |  10 AM |  Do background research on topic | Discuss ideal dataset(s) and ethics; draft project proposal | \n",
    "| 2/1  | 10 AM  | Edit, finalize, and submit proposal; Search for datasets  | Discuss Wrangling and possible analytical approaches; Assign group members to lead each specific part   |\n",
    "| 2/14  | 6 PM  | Import & Wrangle Data (Ant Man); EDA (Hulk) | Review/Edit wrangling/EDA; Discuss Analysis Plan   |\n",
    "| 2/23  | 12 PM  | Finalize wrangling/EDA; Begin Analysis (Iron Man; Thor) | Discuss/edit Analysis; Complete project check-in |\n",
    "| 3/13  | 12 PM  | Complete analysis; Draft results/conclusion/discussion (Wasp)| Discuss/edit full project |\n",
    "| 3/19  | Before 11:59 PM  | NA | Turn in Final Project & Group Project Surveys |"
   ]
  }
 ],
 "metadata": {
  "kernelspec": {
   "display_name": "python3",
   "language": "python",
   "name": "python3"
  }
 },
 "nbformat": 4,
 "nbformat_minor": 2
}
