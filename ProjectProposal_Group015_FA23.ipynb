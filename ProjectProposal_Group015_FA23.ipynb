{
 "cells": [
  {
   "cell_type": "markdown",
   "metadata": {},
   "source": [
    "# COGS 108 - Project Proposal"
   ]
  },
  {
   "cell_type": "markdown",
   "metadata": {},
   "source": [
    "# Names\n",
    "\n",
    "- Pallavi Prabhu\n",
    "- Hana Ton-Nu\n",
    "- Justin Gamm\n",
    "- Raquel Sanchez\n",
    "- Ria Singh"
   ]
  },
  {
   "cell_type": "markdown",
   "metadata": {},
   "source": [
    "# Research Question"
   ]
  },
  {
   "cell_type": "markdown",
   "metadata": {},
   "source": [
    "Do students expect higher grades than they receive if they recommend the professor? Namely, do students that recommend a professor generally expect to do better (expected grade) than they actually did (grade received) and vice versa?\n"
   ]
  },
  {
   "cell_type": "markdown",
   "metadata": {},
   "source": [
    "## Background and Prior Work"
   ]
  },
  {
   "cell_type": "markdown",
   "metadata": {},
   "source": [
    "\n",
    "CAPES stands for “Course And Professor Evaluations” and are offered to students at the end of every quarter to give feedback on their courses and the professors that taught them. As stated on the website, CAPES<a name=\"cite_ref-1\"></a>[<sup>1</sup>](#cite_note-1) is: \n",
    "\n",
    "    “a student-run organization that administers a standardized evaluation of UCSD's undergraduate courses and professors. Student feedback gauges the caliber of both the University's curriculum and its faculty. We provide students with the opinions of their peers on any particular course or professor.” (UCSD)\n",
    "    \n",
    "After students submit their CAPES, this data is aggregated for each quarter of evaluations into features like the percentage of students that recommended the class, the percentage of students that recommend the instructor, the number of hours per week involved in this class, the average grade expected, and the average grade received (which is calculated from the final submitted grades). CAPEs play an important role in helping students choose their professors and even the courses they enroll them in as they generally have more statistics and comprehensive data compared to other rating sites. \n",
    "\n",
    "In addition, other rating sites often show signs of significant skew, with a majority of ratings being either towards the extreme since people are more likely to rate something they have a strong reaction towards. This creates a bimodal distribution that lacks data in between these two strong opinions. On the other hand, while not entirely protected, CAPEs likely have some resistance to potential skews in data since students are often incentivized to complete them for extra credit, which gives equal opportunity for various kinds of responses.\n",
    "In winter of 2021, a COGS108 group also asked a question regarding CAPEs: “How has remote learning during the COVID-19 pandemic affected UCSD students’ grades and learning experience?” (Group084_Wi21<a name=\"cite_ref-2\"></a>[<sup>2</sup>](#cite_note-2)). Thus, while the general topic remains the same, while they focus on the change of grades and learning as a result of the pandemic, we want to explore the potential association between students’ like of professors (recommended professor) and their potential overestimation/underestimation of their performance in class. While it seems obvious that students who do better in a course likely recommend a professor at a higher rate than those who don’t, we are more interested in their confidence and expectation.\n",
    "\n",
    "Furthermore, prior studies that have explored this topic of student-professor evaluations have found evidence of gender bias where female professors tended to rank lower than their male counterparts<a name=\"cite_ref-3\"></a>[<sup>3</sup>](#cite_note-3). While this is not directly related to our question, the general idea remains the same and it peaked our curiousity on some of the other featurs we could include. This could also be an interesting feature to consider in our analysis: how the professors’ gender, likeability, and the students' expectation of grade vs their actual received grade are all related. Do students overestimate their ability and expect a higher grade when the professor is female? Some other features that pique interest are the difference in expectation vs received depending on the department or type of class (like STEM vs liberal arts). \n",
    "\n",
    "\n",
    "1. <a name=\"cite_note-1\"></a> [^](#cite_ref-1) University of California, San Diego. (n.d.). Course And Professor Evaluations. COURSE AND PROFESSOR EVALUATIONS (CAPE). Retrieved November 1, 2023, from https://cape.ucsd.edu/\n",
    "2. <a name=\"cite_note-2\"></a> [^](#cite_ref-2) FinalProject_group084. (2021, March 29). GitHub. Retrieved November 1, 2023, from https://github.com/COGS108/FinalProjects-Wi21/blob/main/FinalProject_group084.ipynb\n",
    "3. <a name=\"cite_note-3\"></a> [^](#cite_ref-3) Mitchell, K., & Martin, J. (2018). Gender Bias in Student Evaluations. PS: Political Science & Politics, 51(3), 648-652. doi:10.1017/S104909651800001X from https://www.cambridge.org/core/journals/ps-political-science-and-politics/article/gender-bias-in-student-evaluations/1224BE475C0AE75A2C2D8553210C4E27\n"
   ]
  },
  {
   "cell_type": "markdown",
   "metadata": {},
   "source": [
    "# Hypothesis\n"
   ]
  },
  {
   "cell_type": "markdown",
   "metadata": {},
   "source": [
    "After thinking back on our experiences in classes at UCSD and talking to our peers, we hypothesize that students in classes of well liked professors will overestimate their grade and those in classes of professors who are not as well liked will underestimate their grade.\n",
    "\n",
    "We expect the correlation between the recommendation percentage of a professor and the difference between the expected and received grades to be positive. Additionally we expect the difference to become negative in professors who have low recommendation percentages. \n"
   ]
  },
  {
   "cell_type": "markdown",
   "metadata": {},
   "source": [
    "# Data"
   ]
  },
  {
   "cell_type": "markdown",
   "metadata": {},
   "source": [
    "The ideal dataset to answer our research question would include variables about the students, professor, course, and time period. To be more specific in each category, the student variables would include demographics, major, academic history, their grade that they predict to receive, and their grade that they did receive. The professor variables would include a unique ID or Professor’s name and rating/recommendation given by the students. The course variables would include a unique ID or course name, the type of course such as type of department, and the course difficulty rating. The time period variables would be the academic year or quarter the data was collected. \n",
    "\n",
    "The data would be ideally stored in a spreadsheet format such as .csv or other type of spreadsheet. It would also be stored in a relational database with unique identifiers to be easier to filter and extract information. \n",
    "\n",
    "Ideally 1,000+ observations would be collected in order to study the effects of students’ recommendation of professors and their predicted and received grade and come to meaningful conclusions. The more observations and larger a dataset, the more statistically significant and precise we can be about our findings.\n",
    "\n",
    "The observations would be on multiple universities and their students’ reviews/ratings of the professor and predicted/received grades of the course in order to gain a better sample of the general college population. The observations would be categorized by course departments such as STEM vs. liberal arts or more descriptive such as Cognitive Science, Computer Science, Data Science, etc. The ratings/feedback would be obtained through the colleges’ official review sites in hopes to prevent repeat reviews and unfilled data cells. The data would be gathered across 2+ years to ensure a large and accurate dataset.\n",
    "\n",
    "A potential dataset we have found is located on kaggle<a name=\"cite_ref-4\"></a>[<sup>4</sup>](#cite_note-4). This dataset contains all the CAPEs data from Summer Session 2007 to Spring 2023 as after the Spring 2023 term, UCSD has migrated to using SETs. Thus, CAPEs data is readily available to use for our project. \n",
    "\n",
    "\n",
    "4. <a name=\"cite_note-4\"></a> [^](#cite_ref-4) https://www.kaggle.com/datasets/sanbornpnguyen/ucsdcapes\n"
   ]
  },
  {
   "cell_type": "markdown",
   "metadata": {},
   "source": [
    "# Ethics & Privacy"
   ]
  },
  {
   "cell_type": "markdown",
   "metadata": {},
   "source": [
    "Our research project is focused on gathering student responses to questions about professors and the classes they taught. Since students have the option to answer the evaluations and it is anonymous, there is no risk of not having consent or being affected since they have anonymity. However, there is a risk when it comes to the professors since their full name and the class they taught is displayed. For the sake of our experiment, we chose to not include their names out of respect for their privacy. Furthermore, CAPEs data is publically available. \n",
    "\n",
    "Since it is a voluntary survey and the fact that we believe most responses are those with more positive or negative feelings towards the professor/ class, we do believe the results may be slightly biased. We hope to counter this with the fact that the data set includes every class for every quarter for over 15 years. We hope the amount of information we have obtained will slightly offset some of the bias that may appear. However, we acknowledge it is impossible to find or completely eliminate any bias. In conclusion, we are confident there is enough information present to effectively answer our question and we aim to protect professors’ privacy by not including their names.\n"
   ]
  },
  {
   "cell_type": "markdown",
   "metadata": {},
   "source": [
    "# Team Expectations "
   ]
  },
  {
   "cell_type": "markdown",
   "metadata": {},
   "source": [
    "First of all, this is a group project so collaboration is extremely important. We plan to do a mixture of in person and zoom meetings throughout the duration of this project. We plan to check in at least once a week to discuss progress, any issues, and assign different tasks. Our main form of communication will be through text. We are planning to go with a divide and conquer approach. We will assess each member's strengths and weaknesses and assign tasks and sections individually or in pairs according to those strengths and weaknesses. Although it is unlikely that every group member will work the exact same hours on this project due to work ethic, difficulty of tasks, and time efficiency, we will do our best to make sure everyone works hard and does what they are supposed to. To ensure every team member carries their own weight, we plan on encouraging each other to use github issues and take advantage of branching and pull requests so that members can contribute to other sections they were not assigned to so that they can help their teammates. Overall we plan on working individually on different parts of the project, but not without collaboration. We will check in at least once a week to ensure no one is falling behind and take advantage of branching and pull requests to provide help.\n",
    "\n",
    "Summary:\n",
    "* *Meet at least once a week to discuss progress, issues, or assign tasks*\n",
    "* *Communicate via text group chat for any questions, comments, issues, and pull/pushes to the GitHub*\n",
    "* *Complete assigned tasks before given deadline and be prepared to discuss progress*\n",
    "* *Communicate to all members if something is impairing you from completing your tasks*"
   ]
  },
  {
   "cell_type": "markdown",
   "metadata": {},
   "source": [
    "# Project Timeline Proposal"
   ]
  },
  {
   "cell_type": "markdown",
   "metadata": {},
   "source": [
    "A project timeline is detailed below. Meeting times are tentative for now and meetings will be held either in person or \n",
    "\n",
    "\n",
    "\n",
    "| Meeting Date  | Meeting Time| Completed Before Meeting  | Discuss at Meeting |\n",
    "|---|---|---|---|\n",
    "| 10/30  |  2 PM | Determine best form of communication, brainstorm topics/questions  | Discuss and decide on final project topic; discuss expectations; discuss hypothesis; begin background research; assign roles for project proposal | \n",
    "| 11/01  |  11 PM | Everyone finishes their project proposal parts: Question (all), Background (Pallavi), Hypothesis(Ria), Data(Hana), Ethics & Privacy (Raquel), Expectations(Justin) | Discuss in text chat any edits and changes before submission | \n",
    "| 11/08  | 2 PM  | Clean data, discuss analysis methods  | Discuss Wrangling and possible analytical approaches; Assign group members to lead each specific part for checkpoint#1 |\n",
    "| 11/15  | 8 PM  | Everyone complete their parts of checkpoint#1 | Review and discuss in text chat or zoom call and edits before submission   |\n",
    "| 11/22  | 2 PM  | Finalize wrangling/EDA; Begin Analysis (Iron Man; Thor) | Discuss approaches for checkpoint#2. finalize plan and assign roles |\n",
    "| 11/29  | 8 PM  | Everyone complete their parts of checkpoint#2| discuss in group chat/zoom call any changes and edits. review and submit checkpoint#2 |\n",
    "| 12/06  | 1PM | Figure out what still needs to be completed for the final project | Discuss the tasks left and assign roles |\n",
    "| 12/13  | 6PM | Everyone finalizes and submits their final parts | Review and discuss any final changes via zoom call; submit final project|"
   ]
  },
  {
   "cell_type": "code",
   "execution_count": null,
   "metadata": {},
   "outputs": [],
   "source": []
  }
 ],
 "metadata": {
  "kernelspec": {
   "display_name": "Python 3 (ipykernel)",
   "language": "python",
   "name": "python3"
  },
  "language_info": {
   "codemirror_mode": {
    "name": "ipython",
    "version": 3
   },
   "file_extension": ".py",
   "mimetype": "text/x-python",
   "name": "python",
   "nbconvert_exporter": "python",
   "pygments_lexer": "ipython3",
   "version": "3.9.13"
  }
 },
 "nbformat": 4,
 "nbformat_minor": 2
}
